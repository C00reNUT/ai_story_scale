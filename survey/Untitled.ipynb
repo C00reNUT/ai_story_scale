{
 "cells": [
  {
   "cell_type": "code",
   "execution_count": 13,
   "id": "c34f948f",
   "metadata": {},
   "outputs": [],
   "source": [
    "import pandas as pd\n",
    "import itertools\n",
    "\n",
    "df = pd.read_csv(\"NAI_story_data/NAI_story_data.csv\")"
   ]
  },
  {
   "cell_type": "code",
   "execution_count": 72,
   "id": "29367ccd",
   "metadata": {},
   "outputs": [],
   "source": [
    "# Put starting prompt and result together\n",
    "df[\"full_story\"] = df[\"prompt\"] + df[\"result\"]\n",
    "\n",
    "# Start building blocks for qualtrics survey\n",
    "\n",
    "# Create IDs for different prompt combinations\n",
    "genre_li = df[\"prompt_label\"].unique()\n",
    "preset_li = df[\"preset_label\"].unique()\n",
    "\n",
    "genre_preset_li = list(itertools.product(preset_li, genre_li))\n",
    "\n",
    "# create ID prefixes by using the first 3 letters of preset and identifer for genre\n",
    "# when adding more presets and/or genres make sure IDs stay unique\n",
    "story_id_dict = {}\n",
    "\n",
    "for comb in genre_preset_li:\n",
    "    id_str = comb[0][:3] + \"_\"\n",
    "    genre = comb[1]\n",
    "    if genre == \"High Fantasy\":\n",
    "        id_str += \"HF\"\n",
    "    elif genre == \"Horror\":\n",
    "        id_str += \"HOR\"\n",
    "    elif genre == \"Hard Sci-fi\":\n",
    "        id_str += \"HSF\"\n",
    "    elif genre == \"Historical Romance\":\n",
    "        id_str += \"HR\"\n",
    "        \n",
    "    id_str =  id_str.upper()\n",
    "    story_id_dict[id_str] = 0\n",
    "\n",
    "# Create string to later write into a file for Qualtrics' advanced txt format\n",
    "qualtrics_str = \"[[AdvancedFormat]]\\n\\n[[Block:Stories]]\\n\"\n",
    "\n",
    "for index, row in df.iterrows():\n",
    "    \n",
    "    # determine story id\n",
    "    story_id_prefix = row[\"preset_label\"][:3] + \"_\"\n",
    "    genre = row[\"prompt_label\"]\n",
    "    \n",
    "    if genre == \"High Fantasy\":\n",
    "        story_id_prefix += \"HF\"\n",
    "    elif genre == \"Horror\":\n",
    "        story_id_prefix += \"HOR\"\n",
    "    elif genre == \"Hard Sci-fi\":\n",
    "        story_id_prefix += \"HSF\"\n",
    "    elif genre == \"Historical Romance\":\n",
    "        story_id_prefix += \"HR\"\n",
    "    \n",
    "    story_id_prefix = story_id_prefix.upper()\n",
    "    \n",
    "    story_id = story_id_prefix + \"_\" + str(story_id_dict[story_id_prefix]+1)\n",
    "    \n",
    "    # increase counter for id\n",
    "    story_id_dict[story_id_prefix] += 1\n",
    "    \n",
    "    # Write to qualtrics string\n",
    "    qualtrics_str += \"\\n[[Text]]\"\n",
    "    qualtrics_str += \"\\n[[ID:\" + story_id + \"]]\\n\"\n",
    "    qualtrics_str += row[\"full_story\"]\n",
    "    qualtrics_str += \"\\n\""
   ]
  },
  {
   "cell_type": "code",
   "execution_count": 76,
   "id": "609d40db",
   "metadata": {},
   "outputs": [],
   "source": [
    "with open(\"stories_qualtrics_advanced_txt.txt\", \"w\", encoding='utf-8') as text_file:\n",
    "    text_file.write(qualtrics_str)"
   ]
  }
 ],
 "metadata": {
  "kernelspec": {
   "display_name": "Python 3 (ipykernel)",
   "language": "python",
   "name": "python3"
  },
  "language_info": {
   "codemirror_mode": {
    "name": "ipython",
    "version": 3
   },
   "file_extension": ".py",
   "mimetype": "text/x-python",
   "name": "python",
   "nbconvert_exporter": "python",
   "pygments_lexer": "ipython3",
   "version": "3.8.10"
  },
  "toc": {
   "base_numbering": 1,
   "nav_menu": {},
   "number_sections": false,
   "sideBar": true,
   "skip_h1_title": false,
   "title_cell": "Table of Contents",
   "title_sidebar": "Contents",
   "toc_cell": false,
   "toc_position": {},
   "toc_section_display": true,
   "toc_window_display": false
  },
  "varInspector": {
   "cols": {
    "lenName": 16,
    "lenType": 16,
    "lenVar": 40
   },
   "kernels_config": {
    "python": {
     "delete_cmd_postfix": "",
     "delete_cmd_prefix": "del ",
     "library": "var_list.py",
     "varRefreshCmd": "print(var_dic_list())"
    },
    "r": {
     "delete_cmd_postfix": ") ",
     "delete_cmd_prefix": "rm(",
     "library": "var_list.r",
     "varRefreshCmd": "cat(var_dic_list()) "
    }
   },
   "types_to_exclude": [
    "module",
    "function",
    "builtin_function_or_method",
    "instance",
    "_Feature"
   ],
   "window_display": false
  }
 },
 "nbformat": 4,
 "nbformat_minor": 5
}
