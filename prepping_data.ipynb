{
 "cells": [
  {
   "cell_type": "code",
   "execution_count": 1,
   "id": "27293c78",
   "metadata": {},
   "outputs": [],
   "source": [
    "import pandas as pd\n",
    "import copy\n",
    "\n",
    "community_df = pd.read_csv(\"data/raw/Story+Scale_February+24,+2022_05.59.csv\")\n",
    "surveyswap_df = pd.read_csv(\n",
    "    \"data/raw/Story+Scale+-+SurveySwap_February+24,+2022_06.03.csv\")\n",
    "story_df = pd.read_csv(\"survey/NAI_story_data/NAI_story_data_for_qualtrics.csv\")"
   ]
  },
  {
   "cell_type": "code",
   "execution_count": 2,
   "id": "759d2c67",
   "metadata": {},
   "outputs": [],
   "source": [
    "# Variable with question order automatically shows storyID\n",
    "# rename accordingly\n",
    "community_df.rename(\n",
    "    columns={\"Stories-Feb17,2022_DO\": \"story_id\"}, inplace=True)\n",
    "surveyswap_df.rename(\n",
    "    columns={\"Stories-Feb17,2022_DO\": \"story_id\"}, inplace=True)\n",
    "\n",
    "# Extract prompt abbreviation\n",
    "surveyswap_df[\"prompt_label\"] = surveyswap_df[\"story_id\"].str.extract(\n",
    "    r\"_(.*)_\\d_?\\d?\")\n",
    "community_df[\"prompt_label\"] = community_df[\"story_id\"].str.extract(\n",
    "    r\"_(.*)_\\d_?\\d?\")\n",
    "\n",
    "# Rename prompt abbreviation to full name\n",
    "prompt_rename_dict = {\"HF\": \"High Fantasy\", \"HOR\": \"Horror\",\n",
    "                      \"HR\": \"Historical Romance\", \"HSF\": \"Hard Sci-Fi\"}\n",
    "surveyswap_df[\"prompt_label\"].replace(prompt_rename_dict, inplace=True)\n",
    "community_df[\"prompt_label\"].replace(prompt_rename_dict, inplace=True)"
   ]
  },
  {
   "cell_type": "code",
   "execution_count": 3,
   "id": "057210be",
   "metadata": {},
   "outputs": [],
   "source": [
    "# first line has description of variables so also of itmes\n",
    "# save these to own df, then delete in main dfs\n",
    "items_descr = surveyswap_df.iloc[0, 18:94]\n",
    "surveyswap_df.drop(index=[0, 1], inplace=True)\n",
    "community_df.drop(index=[0, 1], inplace=True)"
   ]
  },
  {
   "cell_type": "code",
   "execution_count": 4,
   "id": "d047cbc2",
   "metadata": {},
   "outputs": [],
   "source": [
    "# Quick clean up of the descriptions\n",
    "items_descr = items_descr.str.replace(\n",
    "    \"For the following questions, please think of the story you just read.\\nIndicate how much you agree or disagree with each of the following statements about the story. - \", \"\", regex=False)"
   ]
  },
  {
   "cell_type": "code",
   "execution_count": 5,
   "id": "9069106a",
   "metadata": {},
   "outputs": [
    {
     "name": "stdout",
     "output_type": "stream",
     "text": [
      "Do any cases need further investigation?\n",
      "False    41\n",
      "dtype: int64\n"
     ]
    }
   ],
   "source": [
    "# SurveySwap survey contained quality checks\n",
    "# Label if participants passed those\n",
    "def evaluate_qual_check_1(row):\n",
    "    # returns True if passed check\n",
    "    if (row[\"Qual_Check_1\"] == '...someone working in a tavern.') and (row[\"prompt_label\"] == \"Historical Romance\"):\n",
    "        return True\n",
    "    elif (row[\"Qual_Check_1\"] == '...a noise coming from a mirror.') and (row[\"prompt_label\"] == \"Horror\"):\n",
    "        return True\n",
    "    elif (row[\"Qual_Check_1\"] == '...with a message from the president.') and (row[\"prompt_label\"] == \"Hard Sci-Fi\"):\n",
    "        return True\n",
    "    elif (row[\"Qual_Check_1\"] == '...the description of a small village.') and (row[\"prompt_label\"] == \"High Fantasy\"):\n",
    "        return True\n",
    "    else:\n",
    "        return False\n",
    "\n",
    "\n",
    "# Check quality check 1 - participants correctly identified beginning of story\n",
    "surveyswap_df[\"pass_qual_1\"] = surveyswap_df.apply(\n",
    "    evaluate_qual_check_1, axis=1)\n",
    "# Check quality check 2 - participants were asked to give specific answer to question\n",
    "surveyswap_df[\"pass_qual_2\"] = surveyswap_df.apply(\n",
    "    lambda row: True if row[\"story_scale_74\"] == \"Somewhat disagree\" else False, axis=1)\n",
    "\n",
    "# quality check 2 marks bad respondent either way\n",
    "# if quality check 1 is failed, but 2 is passed needs closer look\n",
    "mask_inspect_qual = (surveyswap_df[\"pass_qual_1\"] == False) & (\n",
    "    surveyswap_df[\"pass_qual_2\"] == True)\n",
    "print(\"Do any cases need further investigation?\\n\" +\n",
    "      str(mask_inspect_qual.value_counts()))\n",
    "\n",
    "# okay no closer inspection needed\n",
    "# create dataframe with only good respondents\n",
    "mask_passed = (surveyswap_df[\"pass_qual_1\"] == True) & (\n",
    "    surveyswap_df[\"pass_qual_2\"] == True)\n",
    "surveyswap_passed_df = copy.deepcopy(surveyswap_df[mask_passed])"
   ]
  },
  {
   "cell_type": "code",
   "execution_count": 6,
   "id": "ac856a82",
   "metadata": {},
   "outputs": [
    {
     "name": "stdout",
     "output_type": "stream",
     "text": [
      "Good respondents from SurveySwap:\t\t 27\n",
      "Bad respondents from SurveySwap (filtered out):\t 14\n",
      "That is {}% bad respondents - yay SurveySwap has really \n"
     ]
    }
   ],
   "source": [
    "good_resp = len(surveyswap_passed_df)\n",
    "bad_respondents = len(surveyswap_df) - good_resp\n",
    "bar_resp_per = (bad_respondents/len(surveyswap_df))*100\n",
    "print(\"Good respondents from SurveySwap:\\t\\t {}\".format(good_resp))\n",
    "print(\"Bad respondents from SurveySwap (filtered out):\\t {}\".format(bad_respondents))\n",
    "print(\"That is {}% bad respondents - yay SurveySwap has really \")"
   ]
  },
  {
   "cell_type": "code",
   "execution_count": 7,
   "id": "ca63aadf",
   "metadata": {
    "scrolled": true
   },
   "outputs": [],
   "source": [
    "# Time to combine community and SurveySwap sample\n",
    "community_df[\"sample\"] = \"Community\"\n",
    "surveyswap_passed_df[\"sample\"] = \"SurveySwap\"\n",
    "combined_df = pd.concat([community_df, surveyswap_passed_df])"
   ]
  },
  {
   "cell_type": "code",
   "execution_count": 8,
   "id": "d941d8f9",
   "metadata": {},
   "outputs": [],
   "source": [
    "# delete identifying or unnecessary columns\n",
    "cols_to_delete = ['Status', 'IPAddress', 'Progress', 'Finished', 'RecipientLastName', 'RecipientFirstName',\n",
    "                  'RecipientEmail', 'ExternalReference', 'LocationLatitude', 'LocationLongitude',\n",
    "                  'DistributionChannel', 'UserLanguage', '1']\n",
    "\n",
    "combined_df.drop(columns=cols_to_delete, inplace=True)"
   ]
  },
  {
   "cell_type": "code",
   "execution_count": 9,
   "id": "b2764664",
   "metadata": {},
   "outputs": [],
   "source": [
    "# Rename remaining columns to a more sensible and easier to use naming-scheme\n",
    "\n",
    "# build mapping dict for renaming\n",
    "rename_cols_dict_1 = {'StartDate': \"start\", 'EndDate': \"end\", 'Duration (in seconds)': \"duration_in_sec\",\n",
    "                      'RecordedDate': \"recorded\", 'ResponseId': \"response_id\",\n",
    "                      \"story_scale_DO\": \"tts_order\",\n",
    "                      \"Qual_Check_1\": \"qual_check_1\", \"Qual_Check_1_DO\": \"qual_check_1_order\"}\n",
    "\n",
    "rename_cols_dict_2 = {}\n",
    "\n",
    "for i in range(1, 13):\n",
    "    current_item = \"story_scale_\" + str(i)\n",
    "    new_item = \"tts_coh_\" + str(i)\n",
    "    rename_cols_dict_2[current_item] = new_item\n",
    "\n",
    "a = 1\n",
    "for i in range(13, 21):\n",
    "    current_item = \"story_scale_\" + str(i)\n",
    "    new_item = \"tts_conch_\" + str(a)\n",
    "    rename_cols_dict_2[current_item] = new_item\n",
    "    a += 1\n",
    "\n",
    "a = 1\n",
    "for i in range(21, 33):\n",
    "    current_item = \"story_scale_\" + str(i)\n",
    "    new_item = \"tss_cre_\" + str(a)\n",
    "    rename_cols_dict_2[current_item] = new_item\n",
    "    a += 1\n",
    "\n",
    "a = 1\n",
    "for i in range(33, 41):\n",
    "    current_item = \"story_scale_\" + str(i)\n",
    "    new_item = \"tts_qua_\" + str(a)\n",
    "    rename_cols_dict_2[current_item] = new_item\n",
    "    a += 1\n",
    "\n",
    "a = 1\n",
    "for i in range(41, 53):\n",
    "    current_item = \"story_scale_\" + str(i)\n",
    "    new_item = \"tts_rep_\" + str(a)\n",
    "    rename_cols_dict_2[current_item] = new_item\n",
    "    a += 1\n",
    "\n",
    "a = 1\n",
    "for i in range(53, 65):\n",
    "    current_item = \"story_scale_\" + str(i)\n",
    "    new_item = \"tts_sty_\" + str(a)\n",
    "    rename_cols_dict_2[current_item] = new_item\n",
    "    a += 1\n",
    "\n",
    "a = 1\n",
    "for i in range(65, 74):\n",
    "    current_item = \"story_scale_\" + str(i)\n",
    "    new_item = \"tts_pac_\" + str(a)\n",
    "    rename_cols_dict_2[current_item] = new_item\n",
    "    a += 1\n",
    "\n",
    "rename_cols_dict_2[\"story_scale_74\"] = \"qual_check_2\"\n",
    "\n",
    "# update items_descr naming\n",
    "items_descr.rename(rename_cols_dict_2, inplace=True)\n",
    "\n",
    "# update naming for combined_df\n",
    "combined_df.rename(columns=rename_cols_dict_1, inplace=True)\n",
    "combined_df.rename(columns=rename_cols_dict_2, inplace=True)"
   ]
  },
  {
   "cell_type": "code",
   "execution_count": 10,
   "id": "4117dca4",
   "metadata": {},
   "outputs": [],
   "source": [
    "# We already have the prompt_label,\n",
    "# time to also create a preset_label\n",
    "# Extract prompt abbreviation\n",
    "combined_df[\"preset_label\"] = combined_df[\"story_id\"].str.extract(\n",
    "    r\"^([A-Z]*)\")\n",
    "\n",
    "# Rename prompt abbreviation to full name\n",
    "preset_rename_dict = {\"ACE\": \"Ace of Spade\", \"ALL\": \"All-Nighter\",\n",
    "                      \"BAS\": \"Basic Coherence\", \"FAN\": \"Fandango\",\n",
    "                      \"GEN\": \"Genesis\", \"LOW\": \"Low Rider\",\n",
    "                      \"MOR\": \"Morpho\", \"OUR\": \"Ouroboros\"}\n",
    "combined_df[\"preset_label\"].replace(preset_rename_dict, inplace=True)\n",
    "\n",
    "# recode likert responses\n",
    "likert_recode_dict = {'Strongly disagree': 1, 'Somewhat disagree': 2,\n",
    "                      'Neither agree nor disagree': 3,\n",
    "                      'Somewhat agree': 4,'Strongly agree': 5}\n",
    "combined_df.replace(likert_recode_dict, inplace=True)"
   ]
  },
  {
   "cell_type": "code",
   "execution_count": 11,
   "id": "3618707c",
   "metadata": {},
   "outputs": [],
   "source": [
    "# Add story infos\n",
    "story_df = story_df[[\"Story_ID\", \"full_story\", \"prompt\", \"memory\", \"result\"]]\n",
    "story_df.rename(columns={\"Story_ID\": \"story_id\"}, inplace=True)\n",
    "combined_df = combined_df.join(story_df.set_index(\"story_id\"), on=\"story_id\", how = \"inner\")"
   ]
  },
  {
   "cell_type": "code",
   "execution_count": 12,
   "id": "f68021a8",
   "metadata": {},
   "outputs": [],
   "source": [
    "# reorder cols\n",
    "cols_new_order = ['response_id', 'story_id', 'prompt_label', 'preset_label', 'sample',\n",
    "                  'tts_coh_1', 'tts_coh_2', 'tts_coh_3', 'tts_coh_4', 'tts_coh_5',\n",
    "                  'tts_coh_6', 'tts_coh_7', 'tts_coh_8', 'tts_coh_9', 'tts_coh_10',\n",
    "                  'tts_coh_11', 'tts_coh_12', 'tts_conch_1', 'tts_conch_2', 'tts_conch_3',\n",
    "                  'tts_conch_4', 'tts_conch_5', 'tts_conch_6', 'tts_conch_7',\n",
    "                  'tts_conch_8', 'tss_cre_1', 'tss_cre_2', 'tss_cre_3', 'tss_cre_4',\n",
    "                  'tss_cre_5', 'tss_cre_6', 'tss_cre_7', 'tss_cre_8', 'tss_cre_9',\n",
    "                  'tss_cre_10', 'tss_cre_11', 'tss_cre_12', 'tts_qua_1', 'tts_qua_2',\n",
    "                  'tts_qua_3', 'tts_qua_4', 'tts_qua_5', 'tts_qua_6', 'tts_qua_7',\n",
    "                  'tts_qua_8', 'tts_rep_1', 'tts_rep_2', 'tts_rep_3', 'tts_rep_4',\n",
    "                  'tts_rep_5', 'tts_rep_6', 'tts_rep_7', 'tts_rep_8', 'tts_rep_9',\n",
    "                  'tts_rep_10', 'tts_rep_11', 'tts_rep_12', 'tts_sty_1', 'tts_sty_2',\n",
    "                  'tts_sty_3', 'tts_sty_4', 'tts_sty_5', 'tts_sty_6', 'tts_sty_7',\n",
    "                  'tts_sty_8', 'tts_sty_9', 'tts_sty_10', 'tts_sty_11', 'tts_sty_12',\n",
    "                  'tts_pac_1', 'tts_pac_2', 'tts_pac_3', 'tts_pac_4', 'tts_pac_5',\n",
    "                  'tts_pac_6', 'tts_pac_7', 'tts_pac_8', 'tts_pac_9',\n",
    "                  'full_story', 'prompt', 'memory', 'result',\n",
    "                  'start', 'end', 'duration_in_sec', 'recorded', \n",
    "                  'tts_order', \n",
    "                  'qual_check_1', 'qual_check_1_order', 'qual_check_2', 'pass_qual_1', 'pass_qual_2']\n",
    "combined_df = combined_df[cols_new_order]"
   ]
  },
  {
   "cell_type": "code",
   "execution_count": 13,
   "id": "31e4f72b",
   "metadata": {},
   "outputs": [],
   "source": [
    "# save to file\n",
    "combined_df.to_csv(\"data/combined_data.csv\")\n",
    "items_descr.to_csv(\"data/description_items.csv\")"
   ]
  }
 ],
 "metadata": {
  "kernelspec": {
   "display_name": "Python 3 (ipykernel)",
   "language": "python",
   "name": "python3"
  },
  "language_info": {
   "codemirror_mode": {
    "name": "ipython",
    "version": 3
   },
   "file_extension": ".py",
   "mimetype": "text/x-python",
   "name": "python",
   "nbconvert_exporter": "python",
   "pygments_lexer": "ipython3",
   "version": "3.8.10"
  },
  "toc": {
   "base_numbering": 1,
   "nav_menu": {},
   "number_sections": false,
   "sideBar": true,
   "skip_h1_title": false,
   "title_cell": "Table of Contents",
   "title_sidebar": "Contents",
   "toc_cell": false,
   "toc_position": {},
   "toc_section_display": true,
   "toc_window_display": false
  },
  "varInspector": {
   "cols": {
    "lenName": 16,
    "lenType": 16,
    "lenVar": 40
   },
   "kernels_config": {
    "python": {
     "delete_cmd_postfix": "",
     "delete_cmd_prefix": "del ",
     "library": "var_list.py",
     "varRefreshCmd": "print(var_dic_list())"
    },
    "r": {
     "delete_cmd_postfix": ") ",
     "delete_cmd_prefix": "rm(",
     "library": "var_list.r",
     "varRefreshCmd": "cat(var_dic_list()) "
    }
   },
   "types_to_exclude": [
    "module",
    "function",
    "builtin_function_or_method",
    "instance",
    "_Feature"
   ],
   "window_display": false
  }
 },
 "nbformat": 4,
 "nbformat_minor": 5
}
